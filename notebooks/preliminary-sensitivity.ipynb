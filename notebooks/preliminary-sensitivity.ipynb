{
 "cells": [
  {
   "cell_type": "markdown",
   "metadata": {},
   "source": [
    "# Preliminary sensitivity analysis"
   ]
  },
  {
   "cell_type": "code",
   "execution_count": 16,
   "metadata": {},
   "outputs": [
    {
     "data": {
      "application/vnd.jupyter.widget-view+json": {
       "model_id": "d08b796f6c6d43978f315bd854ee07dd",
       "version_major": 2,
       "version_minor": 0
      },
      "text/plain": [
       "interactive(children=(IntSlider(value=7, description='Number of size classes', layout=Layout(width='600px'), m…"
      ]
     },
     "metadata": {},
     "output_type": "display_data"
    }
   ],
   "source": [
    "from scipy.integrate import solve_ivp\n",
    "import numpy as np\n",
    "from ipywidgets import widgets, interact\n",
    "import plotly.express as px\n",
    "import plotly.graph_objects as go\n",
    "from plotly.subplots import make_subplots\n",
    "from matplotlib import cm\n",
    "from matplotlib.colors import rgb2hex\n",
    "\n",
    "style = {'description_width': '250px'}\n",
    "layout = widgets.Layout(width='600px')\n",
    "\n",
    "@interact\n",
    "def fragmentmnp(K=widgets.IntSlider(min=1, max=20, value=7, description=\"Number of size classes\", style=style, layout=layout),\n",
    "                K_range=widgets.IntRangeSlider(min=-15, max=-2, value=[-9, -3], description=\"Size class diameter range (10^value)\", style=style, layout=layout),\n",
    "                T=widgets.IntSlider(min=1, max=1000, value=100, description=\"Number of timesteps\", style=style, layout=layout),\n",
    "                bar_ts=widgets.IntText(value=99, description=\"Show bar chart for time step...\", style=style, layout=layout),\n",
    "                _k_frag=widgets.BoundedFloatText(0.01, min=0.0, max=1.0, step=0.002, description=\"Average fragmentation rate\", style=style, layout=layout),\n",
    "                theta1=widgets.BoundedFloatText(0.0, min=0.0, max=0.5, step=0.01, description=\"Empirical constant theta1\", style=style, layout=layout),\n",
    "                _n_0=widgets.FloatText(42.0, description=\"Initial particle number concentration\", style=style, layout=layout),\n",
    "                loss=widgets.Checkbox(value=True, description=\"Allow fragmentation from smallest size class?\", style=style, layout=layout)):\n",
    "    \n",
    "    # Set up a particle size distribution and get the median\n",
    "    d = np.logspace(K_range[1], K_range[0], K)\n",
    "    d_median = np.median(d)\n",
    "    \n",
    "    # Set k_frag for each size class, based on the average k_frag for d_median and theta1\n",
    "    # First, get the proportionality constant\n",
    "    k_prop = _k_frag / (d_median ** (2 * theta1))\n",
    "    # Now create the array of k_frags\n",
    "    k_frag = k_prop * d ** (2 * theta1)\n",
    "    \n",
    "    # If fragmentation from smallest class isn't allowed, then set k_frag for\n",
    "    # that class to zero\n",
    "    if not loss:\n",
    "        k_frag[K-1] = 0.0\n",
    "    n_0 = np.full(K, _n_0)\n",
    "\n",
    "    # Fragment size distribution matrix - assume fragmentation event results in even\n",
    "    # split between size classes of daughter particles\n",
    "    fsd = np.zeros((K,K))\n",
    "    for k in np.arange(K):\n",
    "        fsd[k,:] = 1 / (K - k - 1) if (K - k) != 1 else 0\n",
    "        # Get the upper triangle of this matrix, which effectively sets f to zero for\n",
    "        # size classes larger (or equal to) than the current one\n",
    "    fsd = np.triu(fsd, k=1)\n",
    "\n",
    "    # Define the function that satisfies n'(t) = f(t, n)\n",
    "    # i.e. the RHS of our differential eq\n",
    "    def f(t, n):\n",
    "        # Get number of size classes and create empty result to be filled\n",
    "        N = n.shape[0]\n",
    "        dndt = np.empty(N)\n",
    "        # Loop over the size classes and perform the calculation\n",
    "        for k in np.arange(N):\n",
    "            dndt[k] = - k_frag[k] * n[k] + np.sum(fsd[:,k] * k_frag * n)\n",
    "        # Return the solution for all of the size classes\n",
    "        return dndt\n",
    "\n",
    "    # Numerically solve this given the initial values for n, over T time steps\n",
    "    soln = solve_ivp(fun=f,\n",
    "                     t_span=(0, T),\n",
    "                     y0=n_0,\n",
    "                     t_eval=np.arange(0, T))\n",
    "\n",
    "    # If k_frag != 0 for the smallest size class, then there will be a loss to the\n",
    "    # system, so keep track of that here\n",
    "    n_loss = np.sum(n_0) - np.sum(soln.y, axis=0)\n",
    "\n",
    "    # Finally, create the graphs!\n",
    "\n",
    "    # Define the colour map to use\n",
    "    viridis = [rgb2hex(rgb) for rgb in cm.get_cmap('viridis', K).colors]\n",
    "  \n",
    "    # Set up the subplots\n",
    "    fig = make_subplots(rows=1, cols=2, shared_yaxes=True, horizontal_spacing=0.03,\n",
    "                      subplot_titles=(f'k_frag: {np.array2string(np.flip(k_frag), precision=3)}<br>theta1: {theta1}',\n",
    "                                      f'Time step: {bar_ts}'))\n",
    "    # Update the size of the subplot titles\n",
    "    fig.update_annotations(font_size=14)\n",
    "\n",
    "    # Line chart timeseries first\n",
    "    for i in range(0,K):\n",
    "        fig.add_trace(go.Scatter(x=soln.t, y=soln.y[i], name=f'{d[i]:.2e} m',\n",
    "                      line_color=viridis[i]), row=1, col=1)\n",
    "    if loss:\n",
    "        # Plot the loss (if there is any) with a different style\n",
    "        fig.add_trace(go.Scatter(x=soln.t, y=n_loss, name='Loss',\n",
    "                                 line={'width': 3, 'dash': 'dash', 'color': 'lightblue'}), row=1, col=1)\n",
    "    fig.update_xaxes(title='Time', col=1, row=1)\n",
    "    fig.update_yaxes(title='Particle number concentration', col=1, row=1)\n",
    "  \n",
    "    # Now the bar chart\n",
    "    if bar_ts < T:\n",
    "        fig.append_trace(go.Bar(x=[f'{sc:.2e} m' for sc in d], y=soln.y[:,bar_ts],\n",
    "                                marker_color=viridis, showlegend=False), row=1, col=2)\n",
    "    fig.update_xaxes(title='Size class diameter', autorange='reversed', col=2, row=1)\n",
    "\n",
    "    # Update the layout and show\n",
    "    fig.update_layout(width=1300)\n",
    "    fig.show()\n",
    "    fig.write_image(f'output/theta1_{theta1}.png')"
   ]
  }
 ],
 "metadata": {
  "kernelspec": {
   "display_name": "Python [conda env:fmnp]",
   "language": "python",
   "name": "conda-env-fmnp-py"
  },
  "language_info": {
   "codemirror_mode": {
    "name": "ipython",
    "version": 3
   },
   "file_extension": ".py",
   "mimetype": "text/x-python",
   "name": "python",
   "nbconvert_exporter": "python",
   "pygments_lexer": "ipython3",
   "version": "3.10.0"
  }
 },
 "nbformat": 4,
 "nbformat_minor": 4
}
