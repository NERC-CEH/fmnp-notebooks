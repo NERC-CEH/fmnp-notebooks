{
 "cells": [
  {
   "cell_type": "markdown",
   "metadata": {},
   "source": [
    "# FRAGMENT-MNP\n",
    "\n",
    "FRAGMENT-MNP is a mechanistic model of Micro and NanoPlastic FRAGMentation in the ENvironmenT.\n",
    "- [Project webpage](https://www.ceh.ac.uk/our-science/projects/fragment-mnp)\n",
    "- [Model code repository](https://github.com/microplastics-cluster/fragment-mnp)\n",
    "- [Model documentation](https://microplastics-cluster.github.io/fragment-mnp)\n",
    "\n",
    "This app is a simple demonstration of the latest version of the model. The model is still under active development and so except frequent changes, including additions to the model conceptualisation.\n",
    "\n",
    "## Theory\n",
    "\n",
    "FRAGMENT-MNP models the time evolution of micro and nanoplastic particle number concentrations by splitting the size distribution of plastic particles into a number of size classes (bins) and numerically solving the following differential equation for each size class:\n",
    "\n",
    "$$\n",
    "\\frac{dn_k}{dt} = -k_{\\text{frag},k} n_k + \\Sigma_i f_{i,k} k_{\\text{frag},i} n_i - k_\\text{diss} n_k\n",
    "$$\n",
    "\n",
    "Here, $n_k$ is the particle number concentration in size class $k$, $t$ is time, $k_{\\text{frag},k}$ and $k_{\\text{diss},k}$ are the fragmentation and dissolution rates of size class $k$, and $f_{i,k}$ is the fraction of daughter fragments produced from a fragmenting particle of size $i$ that are of size $k$. Note that there is no source term - the only input of plastic particles is the initial value at $t=0$.\n",
    "\n",
    "$k_\\text{frag}$ and $k_\\text{diss}$ are implicitly dependent on the phys-chem properties and the environment the polymer is in (which governs the degradation and mechanical stresses it encounters). For $k_\\text{frag}$, we express this using energy dissipation rate $\\epsilon$ and surface energy $\\sigma$, along with empirical constants $\\Phi$ and $\\theta$:\n",
    "\n",
    "$$\n",
    "k_\\text{frag} = \\Phi_1 \\sigma^{-\\theta_1} \\Phi_2 \\epsilon^{\\theta_2}\n",
    "$$\n",
    "\n",
    "The surface energy is inversely proportional to the square of the diameter of the particle, $\\sigma \\propto d_p^{-2}$, and so for an energy dissipation rate that is constant at each length scale, $k_\\text{frag}$ varies as $d_p^{2\\theta_1}$. We use this to vary $k_\\text{frag}$ across size classes using a given average $k_\\text{frag}$ and value for $\\theta_1$. We also use this to scale $k_\\text{diss}$ as proportional to the surface-to-volume ratio of the particles $s$, and use another proportionality constant $\\gamma$ to do so: $k_\\text{diss} \\propto s^\\gamma$. To convert particle number to mass concentrations, we assume spherical particles.\n",
    "\n"
   ]
  },
  {
   "cell_type": "code",
   "execution_count": 2,
   "metadata": {},
   "outputs": [
    {
     "data": {
      "application/vnd.jupyter.widget-view+json": {
       "model_id": "e22c751785e846d293d1c2bafb36ec6e",
       "version_major": 2,
       "version_minor": 0
      },
      "text/plain": [
       "interactive(children=(IntSlider(value=7, description='Number of size classes', layout=Layout(width='600px'), m…"
      ]
     },
     "metadata": {},
     "output_type": "display_data"
    }
   ],
   "source": [
    "import numpy as np\n",
    "from ipywidgets import widgets, interact\n",
    "import plotly.express as px\n",
    "import plotly.graph_objects as go\n",
    "from plotly.subplots import make_subplots\n",
    "from matplotlib import cm\n",
    "from matplotlib.colors import rgb2hex\n",
    "from fragmentmnp import FragmentMNP\n",
    "from fragmentmnp.examples import minimal_config, minimal_data\n",
    "\n",
    "style = {'description_width': '250px'}\n",
    "layout = widgets.Layout(width='600px')\n",
    "\n",
    "@interact\n",
    "def fragmentmnp(K=widgets.IntSlider(min=1, max=20, value=7, description=\"Number of size classes\", style=style, layout=layout),\n",
    "                K_range=widgets.IntRangeSlider(min=-15, max=-2, value=[-9, -3], description=\"Size class diameter range (10^value)\", style=style, layout=layout),\n",
    "                T=widgets.IntSlider(min=1, max=1000, value=100, description=\"Number of timesteps\", style=style, layout=layout),\n",
    "                bar_ts=widgets.IntText(value=99, description=\"Show bar chart for time step...\", style=style, layout=layout),\n",
    "                _k_frag=widgets.BoundedFloatText(0.01, min=0.0, max=1.0, step=0.01, description=\"Average fragmentation rate\", style=style, layout=layout),\n",
    "                theta1=widgets.BoundedFloatText(0.0, min=0.0, max=0.5, step=0.01, description=\"Empirical constant theta1\", style=style, layout=layout),\n",
    "                k_diss=widgets.BoundedFloatText(0.0005, min=0.0, max=0.1, step=0.0001, description=\"Average dissolution rate\", style=style, layout=layout),\n",
    "                gamma1=widgets.BoundedFloatText(1, min=0.0, max=5, step=0.1, description=\"Empirical constant gamma1\", style=style, layout=layout),\n",
    "                _n_0=widgets.FloatText(42.0, description=\"Initial particle number concentration\", style=style, layout=layout),\n",
    "                density=widgets.BoundedFloatText(1380, min=1, max=1e5, step=10, description='Polymer density', style=style, layout=layout)):\n",
    "\n",
    "    # Use the parameters provided to edit the config and data\n",
    "    minimal_config['n_size_classes'] = K\n",
    "    minimal_config['particle_size_range'] = K_range\n",
    "    minimal_config['n_timesteps'] = T\n",
    "    minimal_config['k_diss_scaling_method'] = 'surface_area'\n",
    "    minimal_data['initial_concs'] = [_n_0] * K\n",
    "    minimal_data['density'] = density\n",
    "    minimal_data['k_frag'] = _k_frag\n",
    "    minimal_data['theta_1'] = theta1\n",
    "    minimal_data['k_diss'] = k_diss\n",
    "    minimal_data['k_diss_gamma'] = gamma1\n",
    "\n",
    "    # Create and run the model\n",
    "    fmnp = FragmentMNP(minimal_config, minimal_data)\n",
    "    output = fmnp.run()\n",
    "\n",
    "    # Define the colour map to use\n",
    "    viridis = [rgb2hex(rgb) for rgb in cm.get_cmap('viridis', K).colors]\n",
    "  \n",
    "    # Set up the subplots\n",
    "    fig = make_subplots(rows=1, cols=2, shared_yaxes=True, horizontal_spacing=0.12,\n",
    "                        subplot_titles=('', f'Time step: {bar_ts}'),\n",
    "                        specs=[[{\"secondary_y\": True},{}]])\n",
    "\n",
    "    # Line chart timeseries first\n",
    "    for i in range(0, K):\n",
    "        fig.add_trace(go.Scatter(x=output.t, y=output.n[i], name=f'{fmnp.psd[i]:.2e} m',\n",
    "                      line_color=viridis[i]), row=1, col=1)\n",
    "    # # Plot the loss (if there is any) with a different style\n",
    "    fig.add_trace(go.Scatter(x=output.t, y=np.sum(output.c_diss, axis=0), name='Dissolution',\n",
    "                                line={'width': 3, 'dash': 'dash', 'color': 'lightblue'}), row=1, col=1, secondary_y=True)\n",
    "    fig.update_xaxes(title='Time', col=1, row=1)\n",
    "    fig.update_yaxes(title='Particle number conc [particles/volume]', col=1, row=1)\n",
    "    fig.update_yaxes(title='Dissolution mass conc [mass/volume]', col=1, row=1, showgrid=False, secondary_y=True)\n",
    "  \n",
    "    # Now the bar chart\n",
    "    if bar_ts < T:\n",
    "        fig.append_trace(go.Bar(x=[f'{sc:.2e} m' for sc in fmnp.psd], y=output.n[:, bar_ts],\n",
    "                                marker_color=viridis, showlegend=False), row=1, col=2)\n",
    "    fig.update_xaxes(title='Size class diameter', col=2, row=1)\n",
    "    fig.update_yaxes(title='Particle number conc [particles/volume]', col=2, row=1, showticklabels=True)\n",
    "\n",
    "    # Update the layout and show\n",
    "    fig.update_layout(width=1300, legend={'yanchor': 'top', 'y': 0.99, 'xanchor': 'left', 'x': 0.96})\n",
    "    fig.show()\n"
   ]
  }
 ],
 "metadata": {
  "interpreter": {
   "hash": "613a34ebe5b1042de2dfcacf352f4e038fdc51a87017da5bfbc1d526b8f9fd8d"
  },
  "kernelspec": {
   "display_name": "Python [conda env:fmnp-voila]",
   "language": "python",
   "name": "conda-env-fmnp-voila-py"
  },
  "language_info": {
   "codemirror_mode": {
    "name": "ipython",
    "version": 3
   },
   "file_extension": ".py",
   "mimetype": "text/x-python",
   "name": "python",
   "nbconvert_exporter": "python",
   "pygments_lexer": "ipython3",
   "version": "3.9.13"
  }
 },
 "nbformat": 4,
 "nbformat_minor": 4
}
